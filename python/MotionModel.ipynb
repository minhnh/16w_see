{
 "cells": [
  {
   "cell_type": "code",
   "execution_count": null,
   "metadata": {
    "collapsed": false
   },
   "outputs": [],
   "source": [
    "import numpy as np\n",
    "import random\n",
    "import matplotlib.pyplot as plt\n",
    "import matplotlib.patches as mpatches\n",
    "import os\n",
    "import glob\n",
    "\n",
    "from matplotlib.pyplot import cm\n",
    "%matplotlib inline\n",
    "\n",
    "from motion_model import sample_motion_model_velocity, predict_trajectory, plot_trajectory, plot_real_trajectories"
   ]
  },
  {
   "cell_type": "code",
   "execution_count": null,
   "metadata": {
    "collapsed": false
   },
   "outputs": [],
   "source": [
    "\n",
    "straight = np.genfromtxt(\"straight/straight.csv\", delimiter=',', skip_header=1)\n",
    "left = np.genfromtxt(\"left/left.csv\", delimiter=',', skip_header=1)\n",
    "slight_left = np.genfromtxt(\"slight_left/slight_left.csv\", delimiter=',', skip_header=1)\n",
    "right = np.genfromtxt(\"right/right.csv\", delimiter=',', skip_header=1)\n",
    "slight_right = np.genfromtxt(\"slight_right/slight_right.csv\", delimiter=',', skip_header=1)\n"
   ]
  },
  {
   "cell_type": "code",
   "execution_count": null,
   "metadata": {
    "collapsed": true
   },
   "outputs": [],
   "source": [
    "def plot_poses(X, Y, theta, color='Teal'):\n",
    "    UN1 = np.cos(theta)\n",
    "    VN1 = np.sin(theta)\n",
    "\n",
    "    plt.quiver(X, Y, UN1, VN1, color=color, headlength=7)\n",
    "    pass\n",
    "\n",
    "\n",
    "def plot_motion_model(trajectory_dir, sampled_paths, axes_limits, figure_size, movement_name):\n",
    "    plt.figure(figsize=figure_size)\n",
    "    plot_trajectory(sampled_paths)\n",
    "    plt.ylabel(\"Y coordinate (mm)\")\n",
    "    plt.xlabel(\"X coordinate (mm)\")\n",
    "    plt.title(\"Sampled trajectories from motion model (%s)\" % (movement_name))\n",
    "    plt.axis('equal')\n",
    "    plt.axis(axes_limits)\n",
    "    plt.grid()\n",
    "    plt.show()\n",
    "\n",
    "    end_poses = None\n",
    "    plt.figure(figsize=figure_size)\n",
    "    for f in glob.glob(trajectory_dir + \"*.csv\"):\n",
    "        data = np.genfromtxt(f, delimiter=',')\n",
    "        delta_theta = data[0, 3]\n",
    "        R = np.array([[np.cos(delta_theta), -np.sin(delta_theta)],\n",
    "                      [np.sin(delta_theta),  np.cos(delta_theta)]])\n",
    "        poses = np.zeros((1, 3))\n",
    "        poses = data[:, 1:] - data[0, 1:]\n",
    "\n",
    "        poses[:, :2] = np.dot(poses[:, :2], R)\n",
    "        plt.plot(poses[:, 0], poses[:, 1])\n",
    "        end_poses = poses[-1:, :] if end_poses is None else np.append(end_poses, poses[-1:, :], axis=0)\n",
    "        pass\n",
    "\n",
    "    plt.ylabel(\"Y coordinate (mm)\")\n",
    "    plt.xlabel(\"X coordinate (mm)\")\n",
    "    plt.title(\"Recorded trajectories from AICISS lab (%s)\" % (movement_name))\n",
    "    plt.axis('equal')\n",
    "    plt.axis(axes_limits)\n",
    "    plt.grid()\n",
    "    plt.show()\n",
    "    \n",
    "    plot = plt.figure(figsize=(10,10))\n",
    "    red_patch = mpatches.Patch(color='red', label='Recorded data')\n",
    "    teal_patch = mpatches.Patch(color='Teal', label='Sampled data')\n",
    "    plt.legend(handles=[red_patch, teal_patch], bbox_to_anchor=(1.05, 1), loc=2)\n",
    "    plt.ylabel('y (mm)')\n",
    "    plt.xlabel('x (mm)')\n",
    "    plt.title('Plot of robot end poses for %s' % (movement_name))\n",
    "    plot_poses(end_poses[:, 0], end_poses[:, 1], end_poses[:, 2], color='red')\n",
    "    plot_poses(sampled_paths[:, -1, 0], sampled_paths[:, -1, 1], sampled_paths[:, -1, 2], color='Teal')\n",
    "    plt.grid()\n",
    "    axes = plt.gca()\n",
    "    plt.show()\n",
    "\n",
    "    return\n"
   ]
  },
  {
   "cell_type": "code",
   "execution_count": null,
   "metadata": {
    "collapsed": false
   },
   "outputs": [],
   "source": [
    "alpha = [  1.14270744e-02,   9.62201025e-06,   3.81152799e-05,   8.53983937e-06,\n",
    "   3.28511879e-05,   1.10914099e-06]\n",
    "u = [100, 0]\n",
    "pose_start = [0, 0, 0]\n",
    "delta_t = 0.1\n",
    "duration = 6\n",
    "repeat = 20\n",
    "paths = predict_trajectory(u, pose_start, alpha, delta_t, duration, repeat, single_gaussian=True)\n",
    "\n",
    "plot_motion_model(\"aiciss/straight/\", paths, [0, 700, -100, 100], (20, 10), \"straight movement\")"
   ]
  },
  {
   "cell_type": "code",
   "execution_count": null,
   "metadata": {
    "collapsed": false
   },
   "outputs": [],
   "source": [
    "u = [100, np.radians(4.77)]\n",
    "\n",
    "paths = predict_trajectory(u, pose_start, alpha, delta_t, duration, repeat, single_gaussian=True)\n",
    "\n",
    "plot_motion_model(\"aiciss/slight_left/\", paths, [0, 900, -50, 250], (20, 10), \"slight left movement\")\n"
   ]
  },
  {
   "cell_type": "code",
   "execution_count": null,
   "metadata": {
    "collapsed": false
   },
   "outputs": [],
   "source": [
    "u = [100, np.radians(-4.77)]\n",
    "\n",
    "paths = predict_trajectory(u, pose_start, alpha, delta_t, duration, repeat, single_gaussian=True)\n",
    "\n",
    "plot_motion_model(\"aiciss/slight_right/\", paths, [0, 700, -250, 50], (20, 10), \"slight right movement\")\n"
   ]
  },
  {
   "cell_type": "code",
   "execution_count": null,
   "metadata": {
    "collapsed": false
   },
   "outputs": [],
   "source": [
    "u = [100, np.radians(-22.92)]\n",
    "\n",
    "paths = predict_trajectory(u, pose_start, alpha, delta_t, duration, repeat, single_gaussian=True)\n",
    "\n",
    "plot_motion_model(\"aiciss/right/\", paths, [-400, 550, -500, 50], (10, 10), \"right movement\")"
   ]
  },
  {
   "cell_type": "code",
   "execution_count": null,
   "metadata": {
    "collapsed": false
   },
   "outputs": [],
   "source": [
    "u = [100, np.radians(22.92)]\n",
    "\n",
    "paths = predict_trajectory(u, pose_start, alpha, delta_t, duration, repeat, single_gaussian=True)\n",
    "\n",
    "plot_motion_model(\"aiciss/left/\", paths, [0, 550, -50, 500], (10, 10), \"left movement\")"
   ]
  },
  {
   "cell_type": "code",
   "execution_count": null,
   "metadata": {
    "collapsed": false
   },
   "outputs": [],
   "source": [
    "def sample_normal_distribution(variance):\n",
    "    rand_sum = 0\n",
    "    for i in range(12):\n",
    "        rand_sum = rand_sum + random.uniform(-1, 1)\n",
    "    return rand_sum * variance / 6\n"
   ]
  },
  {
   "cell_type": "code",
   "execution_count": null,
   "metadata": {
    "collapsed": false
   },
   "outputs": [],
   "source": [
    "v = 100\n",
    "omega = 0\n",
    "sample_straight = np.zeros((30, 3))\n",
    "# straight samples\n",
    "for i in range(30):\n",
    "    sample_straight[i] = sample_motion_model_velocity([v, omega], [0, 0, 0], alpha, straight[1][0])\n",
    "    pass"
   ]
  },
  {
   "cell_type": "code",
   "execution_count": null,
   "metadata": {
    "collapsed": false
   },
   "outputs": [],
   "source": [
    "files = list()\n",
    "for f in glob.glob(\"aiciss/straight/*.csv\"):\n",
    "    files.append(f)\n",
    "    pass\n",
    "# print(\"\\n\".join(files))\n"
   ]
  },
  {
   "cell_type": "code",
   "execution_count": null,
   "metadata": {
    "collapsed": false
   },
   "outputs": [],
   "source": [
    "plot = plt.figure(figsize=(10,10))\n",
    "plt.title('Plot of robot poses after straight forward commands')\n",
    "plot_poses(sample_straight[:, 0], sample_straight[:, 1], sample_straight[:, 2],)\n",
    "plot_poses(straight[:, 1], straight[:, 2], straight[:, 3], color='Red')\n",
    "\n",
    "axes = plt.gca()\n",
    "axes.set_xlim([520,650])\n",
    "\n",
    "plt.grid()\n",
    "plt.show(plot)"
   ]
  },
  {
   "cell_type": "code",
   "execution_count": null,
   "metadata": {
    "collapsed": false
   },
   "outputs": [],
   "source": [
    "v = 100\n",
    "omega = np.radians(22.92)\n",
    "sample_left = np.zeros((30, 3))\n",
    "for i in range(30):\n",
    "    sample_left[i] = sample_motion_model_velocity([v, omega], [0, 0, 0], alpha, left[1][0])\n",
    "    pass\n",
    "\n",
    "plot = plt.figure(figsize=(10,10))\n",
    "plt.title('Plot of robot poses after left commands')\n",
    "plot_poses(sample_left[:, 0], sample_left[:, 1], sample_left[:, 2])\n",
    "plot_poses(left[:, 1], left[:, 2], left[:, 3], color='Red')\n",
    "\n",
    "plt.grid()\n",
    "plt.show(plot)"
   ]
  },
  {
   "cell_type": "code",
   "execution_count": null,
   "metadata": {
    "collapsed": false
   },
   "outputs": [],
   "source": [
    "v = 100\n",
    "omega = np.radians(4.77)\n",
    "sample_slight_left = np.zeros((30, 3))\n",
    "for i in range(30):\n",
    "    sample_slight_left[i] = sample_motion_model_velocity([v, omega], [0, 0, 0], alpha, slight_left[1][0])\n",
    "    pass\n",
    "\n",
    "plot = plt.figure(figsize=(10,10))\n",
    "plt.title('Plot of robot poses after slight left commands')\n",
    "plot_poses(sample_slight_left[:, 0], sample_slight_left[:, 1], sample_slight_left[:, 2])\n",
    "plot_poses(slight_left[:, 1], slight_left[:, 2], slight_left[:, 3], color='Red')\n",
    "\n",
    "axes = plt.gca()\n",
    "axes.set_xlim([500,625])\n",
    "red_patch = mpatches.Patch(color='red', label='Original data')\n",
    "teal_patch = mpatches.Patch(color='Teal', label='Sampled data')\n",
    "plt.legend(handles=[red_patch, teal_patch], bbox_to_anchor=(1.05, 1), loc=2)\n",
    "plt.grid()\n",
    "plt.show(plot)"
   ]
  },
  {
   "cell_type": "code",
   "execution_count": null,
   "metadata": {
    "collapsed": false
   },
   "outputs": [],
   "source": [
    "v = 100\n",
    "omega = np.radians(-22.92)\n",
    "sample_right = np.zeros((30, 3))\n",
    "for i in range(30):\n",
    "    sample_right[i] = sample_motion_model_velocity([v, omega], [0, 0, 0], alpha, right[1][0])\n",
    "    pass\n",
    "\n",
    "plot = plt.figure(figsize=(10,10))\n",
    "plt.title('Plot of robot poses after right commands')\n",
    "plot_poses(sample_right[:, 0], sample_right[:, 1], sample_right[:, 2])\n",
    "plot_poses(right[:, 1], right[:, 2], right[:, 3], color='Red')\n",
    "\n",
    "axes = plt.gca()\n",
    "axes.set_ylim([-450,-200])\n",
    "red_patch = mpatches.Patch(color='red', label='Original data')\n",
    "teal_patch = mpatches.Patch(color='Teal', label='Sampled data')\n",
    "plt.legend(handles=[red_patch, teal_patch], bbox_to_anchor=(1.05, 1), loc=2)\n",
    "plt.grid()\n",
    "axes = plt.gca()\n",
    "plt.show(plot)"
   ]
  },
  {
   "cell_type": "code",
   "execution_count": null,
   "metadata": {
    "collapsed": false
   },
   "outputs": [],
   "source": [
    "v = 100\n",
    "omega = np.radians(-4.77)\n",
    "sample_slight_right = np.zeros((30, 3))\n",
    "for i in range(30):\n",
    "    sample_slight_right[i] = sample_motion_model_velocity([v, omega], [0, 0, 0], alpha, slight_right[1][0])\n",
    "    pass\n",
    "\n",
    "plot = plt.figure(figsize=(10,10))\n",
    "plt.title('Plot of robot poses after slight right commands')\n",
    "plot_poses(sample_slight_right[:, 0], sample_slight_right[:, 1], sample_slight_right[:, 2])\n",
    "plot_poses(slight_right[:, 1], slight_right[:, 2], slight_right[:, 3], color='Red')\n",
    "\n",
    "axes = plt.gca()\n",
    "axes.set_xlim([500,625])\n",
    "red_patch = mpatches.Patch(color='red', label='Original data')\n",
    "teal_patch = mpatches.Patch(color='Teal', label='Sampled data')\n",
    "plt.legend(handles=[red_patch, teal_patch], bbox_to_anchor=(1.05, 1), loc=2)\n",
    "plt.grid()\n",
    "plt.show(plot)"
   ]
  }
 ],
 "metadata": {
  "anaconda-cloud": {},
  "kernelspec": {
   "display_name": "Python 3",
   "language": "python",
   "name": "python3"
  },
  "language_info": {
   "codemirror_mode": {
    "name": "ipython",
    "version": 3
   },
   "file_extension": ".py",
   "mimetype": "text/x-python",
   "name": "python",
   "nbconvert_exporter": "python",
   "pygments_lexer": "ipython3",
   "version": "3.5.2"
  }
 },
 "nbformat": 4,
 "nbformat_minor": 1
}
