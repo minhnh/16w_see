{
 "cells": [
  {
   "cell_type": "code",
   "execution_count": null,
   "metadata": {
    "collapsed": false
   },
   "outputs": [],
   "source": [
    "import numpy as np\n",
    "import random\n",
    "import matplotlib.pyplot as plt\n",
    "import matplotlib.patches as mpatches\n",
    "import os\n",
    "import glob\n",
    "\n",
    "from matplotlib.pyplot import cm\n",
    "%matplotlib inline\n",
    "\n",
    "from motion_model import sample_motion_model_velocity, predict_trajectory, plot_trajectory, plot_real_trajectories"
   ]
  },
  {
   "cell_type": "code",
   "execution_count": null,
   "metadata": {
    "collapsed": false
   },
   "outputs": [],
   "source": [
    "\n",
    "straight = np.genfromtxt(\"straight/straight.csv\", delimiter=',', skip_header=1)\n",
    "left = np.genfromtxt(\"left/left.csv\", delimiter=',', skip_header=1)\n",
    "slight_left = np.genfromtxt(\"slight_left/slight_left.csv\", delimiter=',', skip_header=1)\n",
    "right = np.genfromtxt(\"right/right.csv\", delimiter=',', skip_header=1)\n",
    "slight_right = np.genfromtxt(\"slight_right/slight_right.csv\", delimiter=',', skip_header=1)\n"
   ]
  },
  {
   "cell_type": "code",
   "execution_count": null,
   "metadata": {
    "collapsed": false
   },
   "outputs": [],
   "source": [
    "#Draw predicted trajectories of front\n",
    "alpha = [  1.18337602e-02,   4.50020855e-06,   7.97143571e-05,   6.31096021e-06,\n",
    "   7.37806701e-05,   6.78659476e-06]\n",
    "u = [100, 0]\n",
    "pose_start = [0, 0, 0]\n",
    "delta_t = 0.1\n",
    "duration = 6\n",
    "repeat = 20\n",
    "plt.figure(figsize=(20, 10))\n",
    "paths = predict_trajectory(u, pose_start, alpha, delta_t, duration, repeat, single_gaussian=True)\n",
    "plot_trajectory(paths)\n",
    "plt.ylabel(\"Y coordinate (mm)\")\n",
    "plt.xlabel(\"X coordinate (mm)\")\n",
    "plt.title(\"Sampled trajectories from motion model (straight movement)\")\n",
    "plt.axis('equal')\n",
    "plt.axis([0, 700, -100, 100])\n",
    "plt.grid()\n",
    "plt.show()\n",
    "\n",
    "# os.chdir(\"aiciss/straight/\")\n",
    "# trajectories = list()\n",
    "# trajectories_end = list()\n",
    "# times = list()\n",
    "\n",
    "# files = list()\n",
    "# for f in glob.glob(\"*.csv\"):\n",
    "#     data = np.genfromtxt(f, delimiter=',')\n",
    "#     nb_experiment = 1\n",
    "#     plot_real_trajectories(data, nb_experiment)\n",
    "#     pass\n",
    "plt.figure(figsize=(20, 10))\n",
    "data = np.loadtxt(\"aiciss/straight1.log\", usecols=(0,2,3,4))\n",
    "nb_experiment = 4\n",
    "plot_real_trajectories(data, nb_experiment)\n",
    "data = np.loadtxt(\"aiciss/straight2.log\", usecols=(0,2,3,4))\n",
    "nb_experiment = 4\n",
    "plot_real_trajectories(data, nb_experiment)\n",
    "data = np.loadtxt(\"aiciss/straight3.log\", usecols=(0,2,3,4))\n",
    "nb_experiment = 4\n",
    "plot_real_trajectories(data, nb_experiment)\n",
    "data = np.loadtxt(\"aiciss/straight4.log\", usecols=(0,2,3,4))\n",
    "nb_experiment = 4\n",
    "plot_real_trajectories(data, nb_experiment)\n",
    "data = np.loadtxt(\"aiciss/straight5.log\", usecols=(0,2,3,4))\n",
    "nb_experiment = 4\n",
    "plot_real_trajectories(data, nb_experiment)\n",
    "plt.ylabel(\"Y coordinate (mm)\")\n",
    "plt.xlabel(\"X coordinate (mm)\")\n",
    "plt.title(\"Recorded trajectories from AICISS lab (straight movement)\")\n",
    "plt.axis('equal')\n",
    "plt.axis([0, 700, -100, 100])\n",
    "plt.grid()\n",
    "plt.show()\n",
    "# os.chdir(\"../../\")\n",
    "\n",
    "#Draw real trajectories\n"
   ]
  },
  {
   "cell_type": "code",
   "execution_count": null,
   "metadata": {
    "collapsed": false
   },
   "outputs": [],
   "source": [
    "u = [100, np.radians(4.77)]\n",
    "\n",
    "plt.figure(figsize=(20,10))\n",
    "paths = predict_trajectory(u, pose_start, alpha, delta_t, duration, repeat, single_gaussian=True)\n",
    "plot_trajectory(paths)\n",
    "plt.ylabel(\"Y coordinate (mm)\")\n",
    "plt.xlabel(\"X coordinate (mm)\")\n",
    "plt.title(\"Sampled trajectories from motion model (slight left movement)\")\n",
    "plt.axis('equal')\n",
    "#plt.axis([0, 700, -300, 300])\n",
    "plt.grid()\n",
    "plt.show()\n",
    "\n",
    "plt.figure(figsize=(20,10))\n",
    "data = np.loadtxt(\"aiciss/new_slightLeft1.log\", usecols=(0,2,3,4))\n",
    "nb_experiment = int(len(data)/(6000/((data[-1, 0] - data[0, 0])/len(data))))\n",
    "data[:,1:3] = data[:,1:3]\n",
    "plot_real_trajectories(data, nb_experiment)\n",
    "# data = np.loadtxt(\"aiciss/new_slightLeft2.log\", usecols=(0,2,3,4))\n",
    "# data[:,1:3] = -data[:,1:3]\n",
    "# nb_experiment = int(len(data)/(6000/((data[-1, 0] - data[0, 0])/len(data))))\n",
    "# plot_real_trajectories(data, nb_experiment)\n",
    "plt.ylabel(\"Y coordinate (mm)\")\n",
    "plt.xlabel(\"X coordinate (mm)\")\n",
    "plt.title(\"Recorded trajectories from AICISS lab (slight left movement)\")\n",
    "plt.axis('equal')\n",
    "plt.axis([0, 700, -50, 250])\n",
    "plt.grid()\n",
    "plt.show()\n",
    "# os.chdir(\"../../\")\n"
   ]
  },
  {
   "cell_type": "code",
   "execution_count": null,
   "metadata": {
    "collapsed": false
   },
   "outputs": [],
   "source": [
    "print(len(data)/(6000/((data[-1, 0] - data[0, 0])/len(data))))"
   ]
  },
  {
   "cell_type": "code",
   "execution_count": null,
   "metadata": {
    "collapsed": false
   },
   "outputs": [],
   "source": [
    "u = [100, np.radians(-4.77)]\n",
    "\n",
    "plt.figure(figsize=(20, 10))\n",
    "paths = predict_trajectory(u, pose_start, alpha, delta_t, duration, repeat, single_gaussian=True)\n",
    "plot_trajectory(paths)\n",
    "plt.ylabel(\"Y coordinate (mm)\")\n",
    "plt.xlabel(\"X coordinate (mm)\")\n",
    "plt.title(\"Sampled trajectories from motion model (slight right movement)\")\n",
    "plt.axis('equal')\n",
    "plt.axis([0, 700, -250, 50])\n",
    "plt.grid()\n",
    "plt.show()\n",
    "\n",
    "plt.figure(figsize=(20, 10))\n",
    "data = np.loadtxt(\"aiciss/slightRight.log\", usecols=(0,2,3,4))\n",
    "nb_experiment = int(len(data)/(6000/((data[-1, 0] - data[0, 0])/len(data))))\n",
    "plot_real_trajectories(data, nb_experiment)\n",
    "plt.ylabel(\"Y coordinate (mm)\")\n",
    "plt.xlabel(\"X coordinate (mm)\")\n",
    "plt.title(\"Recorded trajectories from AICISS lab (slight right movement)\")\n",
    "plt.axis('equal')\n",
    "plt.axis([0, 700, -250, 50])\n",
    "plt.grid()\n",
    "plt.show()"
   ]
  },
  {
   "cell_type": "code",
   "execution_count": null,
   "metadata": {
    "collapsed": false
   },
   "outputs": [],
   "source": [
    "u = [100, np.radians(-22.92)]\n",
    "\n",
    "plt.figure(figsize=(10, 10))\n",
    "paths = predict_trajectory(u, pose_start, alpha, delta_t, duration, repeat, single_gaussian=True)\n",
    "plot_trajectory(paths)\n",
    "plt.ylabel(\"Y coordinate (mm)\")\n",
    "plt.xlabel(\"X coordinate (mm)\")\n",
    "plt.title(\"Sampled trajectories from motion model (right movement)\")\n",
    "plt.axis('equal')\n",
    "plt.axis([0, 550, -500, 50])\n",
    "plt.grid()\n",
    "plt.show()\n",
    "\n",
    "plt.figure(figsize=(10,10))\n",
    "data = np.loadtxt(\"aiciss/right.log\", usecols=(0,2,3,4))\n",
    "data[:,1:3] = -data[:,1:3]\n",
    "nb_experiment = int(len(data)/(6000/((data[-1, 0] - data[0, 0])/len(data))))\n",
    "plot_real_trajectories(data, nb_experiment)\n",
    "plt.ylabel(\"Y coordinate (mm)\")\n",
    "plt.xlabel(\"X coordinate (mm)\")\n",
    "plt.title(\"Recorded trajectories from AICISS lab (right movement)\")\n",
    "plt.axis('equal')\n",
    "plt.axis([0, 550, -500, 50])\n",
    "plt.grid()\n",
    "plt.show()"
   ]
  },
  {
   "cell_type": "code",
   "execution_count": null,
   "metadata": {
    "collapsed": false
   },
   "outputs": [],
   "source": [
    "u = [100, np.radians(22.92)]\n",
    "\n",
    "plt.figure(figsize=(10,10))\n",
    "paths = predict_trajectory(u, pose_start, alpha, delta_t, duration, repeat, single_gaussian=True)\n",
    "plot_trajectory(paths)\n",
    "plt.ylabel(\"Y coordinate (mm)\")\n",
    "plt.xlabel(\"X coordinate (mm)\")\n",
    "plt.title(\"Sampled trajectories from motion model (left movement)\")\n",
    "plt.axis('equal')\n",
    "plt.axis([0, 550, -50, 500])\n",
    "plt.grid()\n",
    "plt.show()\n",
    "\n",
    "plt.figure(figsize=(10,10))\n",
    "data = np.loadtxt(\"aiciss/left1.log\", usecols=(0,2,3,4))\n",
    "data[:,1:3] = -data[:,1:3]\n",
    "nb_experiment = int(len(data)/(6000/((data[-1, 0] - data[0, 0])/len(data))))\n",
    "plot_real_trajectories(data, nb_experiment)\n",
    "plt.ylabel(\"Y coordinate (mm)\")\n",
    "plt.xlabel(\"X coordinate (mm)\")\n",
    "plt.title(\"Recorded trajectories from AICISS lab (left movement)\")\n",
    "plt.axis('equal')\n",
    "plt.axis([0, 550, -50, 500])\n",
    "plt.grid()\n",
    "plt.show()"
   ]
  },
  {
   "cell_type": "code",
   "execution_count": null,
   "metadata": {
    "collapsed": false
   },
   "outputs": [],
   "source": [
    "def sample_normal_distribution(variance):\n",
    "    rand_sum = 0\n",
    "    for i in range(12):\n",
    "        rand_sum = rand_sum + random.uniform(-1, 1)\n",
    "    return rand_sum * variance / 6\n"
   ]
  },
  {
   "cell_type": "code",
   "execution_count": null,
   "metadata": {
    "collapsed": false
   },
   "outputs": [],
   "source": [
    "alpha = [1.17512789e-02, 7.52160502e-06, 8.68899519e-07, 4.39043162e-05, 2.10377124e-06, 5.98286575e-05]\n",
    "\n",
    "\n",
    "v = 100\n",
    "omega = 0\n",
    "sample_straight = np.zeros((30, 3))\n",
    "# straight samples\n",
    "for i in range(30):\n",
    "    sample_straight[i] = sample_motion_model_velocity([v, omega], [0, 0, 0], alpha, straight[1][0])\n",
    "    pass"
   ]
  },
  {
   "cell_type": "code",
   "execution_count": null,
   "metadata": {
    "collapsed": false
   },
   "outputs": [],
   "source": [
    "def plot_poses(X, Y, theta, color='Teal'):\n",
    "    UN1 = np.cos(theta)\n",
    "    VN1 = np.sin(theta)\n",
    "\n",
    "    plt.quiver(X, Y, UN1, VN1, \n",
    "               color=color, \n",
    "               headlength=7)\n",
    "    red_patch = mpatches.Patch(color='red', label='Original data')\n",
    "    teal_patch = mpatches.Patch(color='Teal', label='Sampled data')\n",
    "    plt.legend(handles=[red_patch, teal_patch], bbox_to_anchor=(1.05, 1), loc=2)\n",
    "    plt.ylabel('y (mm)')\n",
    "    plt.xlabel('x (mm)')\n",
    "    pass\n",
    "\n",
    "plot = plt.figure(figsize=(10,10))\n",
    "plt.title('Plot of robot poses after straight forward commands')\n",
    "plot_poses(sample_straight[:, 0], sample_straight[:, 1], sample_straight[:, 2],)\n",
    "plot_poses(straight[:, 1], straight[:, 2], straight[:, 3], color='Red')\n",
    "\n",
    "axes = plt.gca()\n",
    "axes.set_xlim([520,650])\n",
    "\n",
    "plt.grid()\n",
    "plt.show(plot)"
   ]
  },
  {
   "cell_type": "code",
   "execution_count": null,
   "metadata": {
    "collapsed": false
   },
   "outputs": [],
   "source": [
    "v = 100\n",
    "omega = np.radians(22.92)\n",
    "sample_left = np.zeros((30, 3))\n",
    "for i in range(30):\n",
    "    sample_left[i] = sample_motion_model_velocity([v, omega], [0, 0, 0], alpha, left[1][0])\n",
    "    pass\n",
    "\n",
    "plot = plt.figure(figsize=(10,10))\n",
    "plt.title('Plot of robot poses after left commands')\n",
    "plot_poses(sample_left[:, 0], sample_left[:, 1], sample_left[:, 2])\n",
    "plot_poses(left[:, 1], left[:, 2], left[:, 3], color='Red')\n",
    "\n",
    "plt.grid()\n",
    "plt.show(plot)"
   ]
  },
  {
   "cell_type": "code",
   "execution_count": null,
   "metadata": {
    "collapsed": false
   },
   "outputs": [],
   "source": [
    "v = 100\n",
    "omega = np.radians(4.77)\n",
    "sample_slight_left = np.zeros((30, 3))\n",
    "for i in range(30):\n",
    "    sample_slight_left[i] = sample_motion_model_velocity([v, omega], [0, 0, 0], alpha, slight_left[1][0])\n",
    "    pass\n",
    "\n",
    "plot = plt.figure(figsize=(10,10))\n",
    "plt.title('Plot of robot poses after slight left commands')\n",
    "plot_poses(sample_slight_left[:, 0], sample_slight_left[:, 1], sample_slight_left[:, 2])\n",
    "plot_poses(slight_left[:, 1], slight_left[:, 2], slight_left[:, 3], color='Red')\n",
    "\n",
    "axes = plt.gca()\n",
    "axes.set_xlim([500,625])\n",
    "red_patch = mpatches.Patch(color='red', label='Original data')\n",
    "teal_patch = mpatches.Patch(color='Teal', label='Sampled data')\n",
    "plt.legend(handles=[red_patch, teal_patch], bbox_to_anchor=(1.05, 1), loc=2)\n",
    "plt.grid()\n",
    "plt.show(plot)"
   ]
  },
  {
   "cell_type": "code",
   "execution_count": null,
   "metadata": {
    "collapsed": false
   },
   "outputs": [],
   "source": [
    "v = 100\n",
    "omega = np.radians(-22.92)\n",
    "sample_right = np.zeros((30, 3))\n",
    "for i in range(30):\n",
    "    sample_right[i] = sample_motion_model_velocity([v, omega], [0, 0, 0], alpha, right[1][0])\n",
    "    pass\n",
    "\n",
    "plot = plt.figure(figsize=(10,10))\n",
    "plt.title('Plot of robot poses after right commands')\n",
    "plot_poses(sample_right[:, 0], sample_right[:, 1], sample_right[:, 2])\n",
    "plot_poses(right[:, 1], right[:, 2], right[:, 3], color='Red')\n",
    "\n",
    "axes = plt.gca()\n",
    "axes.set_ylim([-450,-200])\n",
    "red_patch = mpatches.Patch(color='red', label='Original data')\n",
    "teal_patch = mpatches.Patch(color='Teal', label='Sampled data')\n",
    "plt.legend(handles=[red_patch, teal_patch], bbox_to_anchor=(1.05, 1), loc=2)\n",
    "plt.grid()\n",
    "axes = plt.gca()\n",
    "plt.show(plot)"
   ]
  },
  {
   "cell_type": "code",
   "execution_count": null,
   "metadata": {
    "collapsed": false
   },
   "outputs": [],
   "source": [
    "v = 100\n",
    "omega = np.radians(-4.77)\n",
    "sample_slight_right = np.zeros((30, 3))\n",
    "for i in range(30):\n",
    "    sample_slight_right[i] = sample_motion_model_velocity([v, omega], [0, 0, 0], alpha, slight_right[1][0])\n",
    "    pass\n",
    "\n",
    "plot = plt.figure(figsize=(10,10))\n",
    "plt.title('Plot of robot poses after slight right commands')\n",
    "plot_poses(sample_slight_right[:, 0], sample_slight_right[:, 1], sample_slight_right[:, 2])\n",
    "plot_poses(slight_right[:, 1], slight_right[:, 2], slight_right[:, 3], color='Red')\n",
    "\n",
    "axes = plt.gca()\n",
    "axes.set_xlim([500,625])\n",
    "red_patch = mpatches.Patch(color='red', label='Original data')\n",
    "teal_patch = mpatches.Patch(color='Teal', label='Sampled data')\n",
    "plt.legend(handles=[red_patch, teal_patch], bbox_to_anchor=(1.05, 1), loc=2)\n",
    "plt.grid()\n",
    "plt.show(plot)"
   ]
  }
 ],
 "metadata": {
  "anaconda-cloud": {},
  "kernelspec": {
   "display_name": "Python 3",
   "language": "python",
   "name": "python3"
  },
  "language_info": {
   "codemirror_mode": {
    "name": "ipython",
    "version": 3
   },
   "file_extension": ".py",
   "mimetype": "text/x-python",
   "name": "python",
   "nbconvert_exporter": "python",
   "pygments_lexer": "ipython3",
   "version": "3.5.2"
  }
 },
 "nbformat": 4,
 "nbformat_minor": 1
}
