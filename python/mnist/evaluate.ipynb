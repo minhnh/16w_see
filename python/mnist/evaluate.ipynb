{
 "cells": [
  {
   "cell_type": "code",
   "execution_count": null,
   "metadata": {
    "collapsed": false
   },
   "outputs": [],
   "source": [
    "from keras.models import model_from_json\n",
    "from sklearn.datasets import fetch_mldata\n",
    "from sklearn.model_selection import KFold\n",
    "import numpy as np\n",
    "\n",
    "import util\n",
    "import time\n",
    "\n",
    "json_file = open('mnist_20161211_model.json', 'r')\n",
    "loaded_model_json = json_file.read()\n",
    "json_file.close()\n",
    "loaded_model = model_from_json(loaded_model_json)\n",
    "# load weights into new model\n",
    "loaded_model.load_weights(\"mnist_20161211_weights.h5\")\n",
    "print(\"Loaded model from disk\")\n",
    " \n",
    "# evaluate loaded model on test data\n",
    "loaded_model.compile(loss='binary_crossentropy', optimizer='adadelta', metrics=['accuracy'])"
   ]
  },
  {
   "cell_type": "code",
   "execution_count": null,
   "metadata": {
    "collapsed": false
   },
   "outputs": [],
   "source": [
    "mnist = fetch_mldata('MNIST original')\n",
    "\n",
    "data = mnist.data.reshape((len(mnist.data), 1, 28, 28))\n",
    "np.random.shuffle(data)\n",
    "data = data[:1000]\n",
    "data = data.astype('float32')\n",
    "data = data / 255"
   ]
  },
  {
   "cell_type": "code",
   "execution_count": null,
   "metadata": {
    "collapsed": false
   },
   "outputs": [],
   "source": [
    "kf = KFold(n_splits=10, shuffle=True)\n",
    "print(data.shape)\n",
    "\n",
    "for model_name in ['cnn']:#, 'cnn']:\n",
    "    accuracies = []\n",
    "    fold_index = 1\n",
    "    predictions = []\n",
    "    targets = []\n",
    "    for train_index, test_index in kf.split(data):\n",
    "        from keras.utils import np_utils\n",
    "        nb_classes = 10\n",
    "        batch_size = 128\n",
    "        nb_epoch = 10\n",
    "        x_train, x_test = data[train_index], data[test_index]\n",
    "        y_train, y_test = mnist.target.astype('int')[train_index], mnist.target.astype('int')[test_index]\n",
    "#         y_train = np_utils.to_categorical(y_train, nb_classes)\n",
    "#         y_test = np_utils.to_categorical(y_test, nb_classes)\n",
    "        clf, prediction = util.train_model(model_name, x_train, y_train, x_test)\n",
    "\n",
    "        print(prediction[0])\n",
    "        prediction_int = list(map(int, np.round(prediction)))\n",
    "        predictions.append(prediction)\n",
    "        targets.append(y_test)\n",
    "#         conf_matrix = confusion_matrix(true_y, prediction_int)\n",
    "#         title = \"%s fold %d\" % (model_name.upper(), fold_index)\n",
    "#         plot_confusion_matrix(conf_matrix, ['not skin', 'skin'], title=title)\n",
    "\n",
    "        accuracy = np.sum(np.diag(conf_matrix)) / np.sum(conf_matrix)\n",
    "        accuracies.append(accuracy)\n",
    "    #     print(accuracy)\n",
    "    #     y = list(map(int, np.ravel(train_data[:, -1])))\n",
    "    #     print(np.bincount(y))\n",
    "    #     y = list(map(int, np.ravel(test_data[:, -1])))\n",
    "    #     print(np.bincount(y))\n",
    "        fold_index += 1\n",
    "        pass\n",
    "\n",
    "    conf_matrix = confusion_matrix(targets, predictions)\n",
    "    title = \"Confusion matrix %s\" % (model_name.upper())\n",
    "    plot_confusion_matrix(conf_matrix, list(range(10)), title=title)\n",
    "    print(\"\\nCross validated accuracy: %f\\n\\n\" % np.mean(accuracies))\n",
    "\n",
    "    pass"
   ]
  },
  {
   "cell_type": "code",
   "execution_count": null,
   "metadata": {
    "collapsed": false
   },
   "outputs": [],
   "source": [
    "conf_mat = np.array(\n",
    "[[ 2236 ,    0 ,    4 ,    0 ,    1 ,    3 ,    2 ,    2 ,    5 ,    3 ],\n",
    " [          0 , 2553 ,    7 ,    1 ,    2 ,    1 ,    0 ,    4 ,    2 ,    1 ],\n",
    " [          4 ,    3 , 2239 ,    6 ,    6 ,    0 ,    1 ,   17 ,    5 ,    2 ],\n",
    " [          3 ,    1 ,    6 , 2398 ,    0 ,   29 ,    0 ,    4 ,    9 ,    4 ],\n",
    " [          3 ,    3 ,    1 ,    0 , 2207 ,    0 ,    3 ,    5 ,    1 ,   11 ],\n",
    " [          3 ,    0 ,    1 ,    8 ,    3 , 2092 ,    5 ,    0 ,    9 ,    5 ],\n",
    " [          6 ,    5 ,    0 ,    0 ,    3 ,    7 , 2229 ,    0 ,    4 ,    0 ],\n",
    " [          1 ,    3 ,    6 ,    2 ,    3 ,    2 ,    0 , 2391 ,    1 ,    5 ],\n",
    " [          3 ,    4 ,    5 ,    6 ,    4 ,    9 ,    3 ,    1 , 2213 ,    7 ],\n",
    " [          3 ,    1 ,    0 ,    3 ,   14 ,    1 ,    0 ,   10 ,   11 , 2210 ]])\n",
    "from matplotlib import pyplot as plt\n",
    "\n",
    "plt.figure(figsize=(10, 7))\n",
    "util.plot_confusion_matrix(cm=conf_mat, classes=list(range(10)), save_plot=False, title=\"confusion matrix CNN\")"
   ]
  },
  {
   "cell_type": "code",
   "execution_count": null,
   "metadata": {
    "collapsed": false
   },
   "outputs": [],
   "source": [
    "conf_mat = np.array(\n",
    "[[2223,    0,    0,    5,    3,    6,    8,    1,    8,    2],\n",
    " [  43, 2473,   14,    8,    1,    5,    2,    4,   19,    2],\n",
    " [ 101,    6, 2030,   19,   29,    4,   16,   27,   46,    5],\n",
    " [  62,    1,    9, 2268,    0,   57,    2,    9,   36,   10],\n",
    " [  47,    4,    5,    0, 2132,    0,    4,    1,    6,   35],\n",
    " [  49,    4,    1,   21,    5, 2005,   13,    1,   14,   13],\n",
    " [  45,    4,    0,    0,   13,   19, 2168,    0,    5,    0],\n",
    " [  80,    2,    9,    4,   19,    1,    0, 2235,    8,   56],\n",
    " [  59,    6,    4,   24,    5,   30,    7,    1, 2110,    9],\n",
    " [  81,    1,    0,   12,   27,    4,    0,   22,   20, 2086]])\n",
    "from matplotlib import pyplot as plt\n",
    "\n",
    "plt.figure(figsize=(10, 7))\n",
    "util.plot_confusion_matrix(cm=conf_mat, classes=list(range(10)), save_plot=False, title=\"confusion matrix SVM\")\n"
   ]
  },
  {
   "cell_type": "code",
   "execution_count": null,
   "metadata": {
    "collapsed": false
   },
   "outputs": [],
   "source": [
    "\n",
    "plt.show()"
   ]
  }
 ],
 "metadata": {
  "kernelspec": {
   "display_name": "Python 3",
   "language": "python",
   "name": "python3"
  },
  "language_info": {
   "codemirror_mode": {
    "name": "ipython",
    "version": 3
   },
   "file_extension": ".py",
   "mimetype": "text/x-python",
   "name": "python",
   "nbconvert_exporter": "python",
   "pygments_lexer": "ipython3",
   "version": "3.5.2"
  }
 },
 "nbformat": 4,
 "nbformat_minor": 2
}
